{
 "cells": [
  {
   "cell_type": "markdown",
   "metadata": {},
   "source": [
    "# Code Merkleization Examples"
   ]
  },
  {
   "cell_type": "code",
   "execution_count": 1,
   "metadata": {},
   "outputs": [],
   "source": [
    "import json\n",
    "import merkleize\n",
    "import treeviz"
   ]
  },
  {
   "cell_type": "code",
   "execution_count": null,
   "metadata": {},
   "outputs": [],
   "source": []
  },
  {
   "cell_type": "code",
   "execution_count": 2,
   "metadata": {},
   "outputs": [],
   "source": [
    "with open(\"bytecodes/tether_test.json\", \"r\") as json_file:\n",
    "    rpc_result = json.load(json_file)"
   ]
  },
  {
   "cell_type": "code",
   "execution_count": null,
   "metadata": {},
   "outputs": [],
   "source": []
  },
  {
   "cell_type": "code",
   "execution_count": 3,
   "metadata": {},
   "outputs": [],
   "source": [
    "bytecode = bytes.fromhex(rpc_result['result'][2:])"
   ]
  },
  {
   "cell_type": "code",
   "execution_count": 4,
   "metadata": {},
   "outputs": [
    {
     "data": {
      "text/plain": [
       "'606060405260043610610196576000357c0100000000000000000000000000000000000000000000000000000000900463ffffffff16806306fdde031461019b5780630753c30c14610229578063095ea7b3146102625780630e136b19146102a45780630ecb93c0146102d157806318160ddd1461030a57806323b872dd1461033357806326976e3f1461039457806327e235e3146103e9578063313ce56714'"
      ]
     },
     "execution_count": 4,
     "metadata": {},
     "output_type": "execute_result"
    }
   ],
   "source": [
    "bytecode.hex()"
   ]
  },
  {
   "cell_type": "code",
   "execution_count": 5,
   "metadata": {},
   "outputs": [],
   "source": [
    "chunks = merkleize.chunkify(bytecode)"
   ]
  },
  {
   "cell_type": "code",
   "execution_count": 6,
   "metadata": {},
   "outputs": [
    {
     "data": {
      "text/plain": [
       "5"
      ]
     },
     "execution_count": 6,
     "metadata": {},
     "output_type": "execute_result"
    }
   ],
   "source": [
    "total_chunks = len(chunks)\n",
    "total_chunks"
   ]
  },
  {
   "cell_type": "code",
   "execution_count": 7,
   "metadata": {},
   "outputs": [
    {
     "data": {
      "text/plain": [
       "8"
      ]
     },
     "execution_count": 7,
     "metadata": {},
     "output_type": "execute_result"
    }
   ],
   "source": [
    "merkleize.next_power_of_2(total_chunks)"
   ]
  },
  {
   "cell_type": "code",
   "execution_count": 8,
   "metadata": {},
   "outputs": [
    {
     "name": "stdout",
     "output_type": "stream",
     "text": [
      "185902a3936477865aa648d43a8ec1767848d9fc5dc033747c57072a0f0c42de\n",
      "bd6024527ab9d50c49744260439e2e48270dfdb229154023757b66d64a92ee8c\n",
      "699081d7fd547cbb33af5a7a0839fb3b7bb954d4a6ad127a44e5db8f478a4e81\n",
      "769ec9eeeab5a363db59863a110128a962a1791c5fb105797435fa6256dd6b24\n",
      "476eb566e5c07e6aadca92f3eb08810834886dd40ea4f70a499293dfbd8b17ec\n"
     ]
    }
   ],
   "source": [
    "for chunk in chunks:\n",
    "    print(chunk.hex())"
   ]
  },
  {
   "cell_type": "code",
   "execution_count": 9,
   "metadata": {},
   "outputs": [
    {
     "data": {
      "text/plain": [
       "16"
      ]
     },
     "execution_count": 9,
     "metadata": {},
     "output_type": "execute_result"
    }
   ],
   "source": [
    "tree = merkleize.treefy(chunks,len(bytecode))\n",
    "total_elements = len(tree)\n",
    "total_elements"
   ]
  },
  {
   "cell_type": "code",
   "execution_count": 10,
   "metadata": {},
   "outputs": [
    {
     "name": "stdout",
     "output_type": "stream",
     "text": [
      "5af458f613cc3804a057cf34a417b9c7f10ba1b0435e0e327af03756aab072e2\n",
      "fdd8ca60280b634f79b8f33371b19b30797aafa2cde2bac8f6a6c854ad922da2\n",
      "a7e2f64d668c0db2aaba03dadd64e91c6a7dba9a77ef9b09491e9dbc7e3acb6a\n",
      "cd7fa931aa47a69df1c37d9fa08da82fa6de6ffc57ffbb9476ef3030a9c78304\n",
      "d244c50269e2312994ea833476b434f7ca053b355205af05f5a947fafb317d87\n",
      "2b979c17871114675bc27a0b837c5bac90199daac88782561e65985d630bbbe6\n",
      "647aab3a3346954986d5bb0c2da2bdcfb73e0ed564751ead5dbf6cb2f402f320\n",
      "070fa1ab6fcc557ed14d42941f1967693048551eb9042a8d0a057afbd75e81e0\n",
      "185902a3936477865aa648d43a8ec1767848d9fc5dc033747c57072a0f0c42de\n",
      "bd6024527ab9d50c49744260439e2e48270dfdb229154023757b66d64a92ee8c\n",
      "699081d7fd547cbb33af5a7a0839fb3b7bb954d4a6ad127a44e5db8f478a4e81\n",
      "769ec9eeeab5a363db59863a110128a962a1791c5fb105797435fa6256dd6b24\n",
      "476eb566e5c07e6aadca92f3eb08810834886dd40ea4f70a499293dfbd8b17ec\n",
      "0000000000000000000000000000000000000000000000000000000000000000\n",
      "0000000000000000000000000000000000000000000000000000000000000000\n",
      "0000000000000000000000000000000000000000000000000000000000000000\n"
     ]
    }
   ],
   "source": [
    "for element in tree:\n",
    "    print(element.hex())"
   ]
  },
  {
   "cell_type": "code",
   "execution_count": 11,
   "metadata": {},
   "outputs": [
    {
     "data": {
      "text/plain": [
       "'5af458f613cc3804a057cf34a417b9c7f10ba1b0435e0e327af03756aab072e2'"
      ]
     },
     "execution_count": 11,
     "metadata": {},
     "output_type": "execute_result"
    }
   ],
   "source": [
    "tree[0].hex()"
   ]
  },
  {
   "cell_type": "code",
   "execution_count": 12,
   "metadata": {},
   "outputs": [
    {
     "data": {
      "image/svg+xml": [
       "<?xml version=\"1.0\" encoding=\"UTF-8\" standalone=\"no\"?>\n",
       "<!DOCTYPE svg PUBLIC \"-//W3C//DTD SVG 1.1//EN\"\n",
       " \"http://www.w3.org/Graphics/SVG/1.1/DTD/svg11.dtd\">\n",
       "<!-- Generated by graphviz version 2.44.1 (0)\n",
       " -->\n",
       "<!-- Pages: 1 -->\n",
       "<svg width=\"4712pt\" height=\"332pt\"\n",
       " viewBox=\"0.00 0.00 4711.55 332.00\" xmlns=\"http://www.w3.org/2000/svg\" xmlns:xlink=\"http://www.w3.org/1999/xlink\">\n",
       "<g id=\"graph0\" class=\"graph\" transform=\"scale(1 1) rotate(0) translate(4 328)\">\n",
       "<polygon fill=\"white\" stroke=\"transparent\" points=\"-4,4 -4,-328 4707.55,-328 4707.55,4 -4,4\"/>\n",
       "<!-- 0 -->\n",
       "<g id=\"node1\" class=\"node\">\n",
       "<title>0</title>\n",
       "<ellipse fill=\"none\" stroke=\"black\" cx=\"2324.72\" cy=\"-234\" rx=\"278.35\" ry=\"18\"/>\n",
       "<text text-anchor=\"middle\" x=\"2324.72\" y=\"-230.3\" font-family=\"Times,serif\" font-size=\"14.00\">fdd8ca60280b634f79b8f33371b19b30797aafa2cde2bac8f6a6c854ad922da2</text>\n",
       "</g>\n",
       "<!-- 1 -->\n",
       "<g id=\"node2\" class=\"node\">\n",
       "<title>1</title>\n",
       "<ellipse fill=\"none\" stroke=\"black\" cx=\"1743.72\" cy=\"-162\" rx=\"279.45\" ry=\"18\"/>\n",
       "<text text-anchor=\"middle\" x=\"1743.72\" y=\"-158.3\" font-family=\"Times,serif\" font-size=\"14.00\">a7e2f64d668c0db2aaba03dadd64e91c6a7dba9a77ef9b09491e9dbc7e3acb6a</text>\n",
       "</g>\n",
       "<!-- 0&#45;&gt;1 -->\n",
       "<g id=\"edge1\" class=\"edge\">\n",
       "<title>0&#45;&gt;1</title>\n",
       "<path fill=\"none\" stroke=\"black\" d=\"M2199.37,-217.9C2105.05,-206.53 1975.95,-190.98 1879.25,-179.33\"/>\n",
       "<polygon fill=\"black\" stroke=\"black\" points=\"1879.45,-175.83 1869.1,-178.11 1878.61,-182.78 1879.45,-175.83\"/>\n",
       "</g>\n",
       "<!-- 2 -->\n",
       "<g id=\"node3\" class=\"node\">\n",
       "<title>2</title>\n",
       "<ellipse fill=\"none\" stroke=\"black\" cx=\"2912.72\" cy=\"-162\" rx=\"271.85\" ry=\"18\"/>\n",
       "<text text-anchor=\"middle\" x=\"2912.72\" y=\"-158.3\" font-family=\"Times,serif\" font-size=\"14.00\">cd7fa931aa47a69df1c37d9fa08da82fa6de6ffc57ffbb9476ef3030a9c78304</text>\n",
       "</g>\n",
       "<!-- 0&#45;&gt;2 -->\n",
       "<g id=\"edge2\" class=\"edge\">\n",
       "<title>0&#45;&gt;2</title>\n",
       "<path fill=\"none\" stroke=\"black\" d=\"M2451.23,-217.94C2547.17,-206.52 2678.81,-190.85 2776.96,-179.16\"/>\n",
       "<polygon fill=\"black\" stroke=\"black\" points=\"2777.43,-182.63 2786.95,-177.97 2776.6,-175.68 2777.43,-182.63\"/>\n",
       "</g>\n",
       "<!-- 3 -->\n",
       "<g id=\"node4\" class=\"node\">\n",
       "<title>3</title>\n",
       "<ellipse fill=\"none\" stroke=\"black\" cx=\"869.72\" cy=\"-90\" rx=\"280.25\" ry=\"18\"/>\n",
       "<text text-anchor=\"middle\" x=\"869.72\" y=\"-86.3\" font-family=\"Times,serif\" font-size=\"14.00\">d244c50269e2312994ea833476b434f7ca053b355205af05f5a947fafb317d87</text>\n",
       "</g>\n",
       "<!-- 1&#45;&gt;3 -->\n",
       "<g id=\"edge3\" class=\"edge\">\n",
       "<title>1&#45;&gt;3</title>\n",
       "<path fill=\"none\" stroke=\"black\" d=\"M1576.24,-147.59C1424.68,-135.45 1202.14,-117.62 1047.47,-105.24\"/>\n",
       "<polygon fill=\"black\" stroke=\"black\" points=\"1047.63,-101.74 1037.38,-104.43 1047.07,-108.72 1047.63,-101.74\"/>\n",
       "</g>\n",
       "<!-- 4 -->\n",
       "<g id=\"node5\" class=\"node\">\n",
       "<title>4</title>\n",
       "<ellipse fill=\"none\" stroke=\"black\" cx=\"1743.72\" cy=\"-90\" rx=\"285.95\" ry=\"18\"/>\n",
       "<text text-anchor=\"middle\" x=\"1743.72\" y=\"-86.3\" font-family=\"Times,serif\" font-size=\"14.00\">2b979c17871114675bc27a0b837c5bac90199daac88782561e65985d630bbbe6</text>\n",
       "</g>\n",
       "<!-- 1&#45;&gt;4 -->\n",
       "<g id=\"edge4\" class=\"edge\">\n",
       "<title>1&#45;&gt;4</title>\n",
       "<path fill=\"none\" stroke=\"black\" d=\"M1743.72,-143.7C1743.72,-135.98 1743.72,-126.71 1743.72,-118.11\"/>\n",
       "<polygon fill=\"black\" stroke=\"black\" points=\"1747.23,-118.1 1743.72,-108.1 1740.23,-118.1 1747.23,-118.1\"/>\n",
       "</g>\n",
       "<!-- 5 -->\n",
       "<g id=\"node6\" class=\"node\">\n",
       "<title>5</title>\n",
       "<ellipse fill=\"none\" stroke=\"black\" cx=\"2912.72\" cy=\"-90\" rx=\"280.25\" ry=\"18\"/>\n",
       "<text text-anchor=\"middle\" x=\"2912.72\" y=\"-86.3\" font-family=\"Times,serif\" font-size=\"14.00\">647aab3a3346954986d5bb0c2da2bdcfb73e0ed564751ead5dbf6cb2f402f320</text>\n",
       "</g>\n",
       "<!-- 2&#45;&gt;5 -->\n",
       "<g id=\"edge5\" class=\"edge\">\n",
       "<title>2&#45;&gt;5</title>\n",
       "<path fill=\"none\" stroke=\"black\" d=\"M2912.72,-143.7C2912.72,-135.98 2912.72,-126.71 2912.72,-118.11\"/>\n",
       "<polygon fill=\"black\" stroke=\"black\" points=\"2916.23,-118.1 2912.72,-108.1 2909.23,-118.1 2916.23,-118.1\"/>\n",
       "</g>\n",
       "<!-- 6 -->\n",
       "<g id=\"node7\" class=\"node\">\n",
       "<title>6</title>\n",
       "<ellipse fill=\"none\" stroke=\"black\" cx=\"3809.72\" cy=\"-90\" rx=\"280.25\" ry=\"18\"/>\n",
       "<text text-anchor=\"middle\" x=\"3809.72\" y=\"-86.3\" font-family=\"Times,serif\" font-size=\"14.00\">070fa1ab6fcc557ed14d42941f1967693048551eb9042a8d0a057afbd75e81e0</text>\n",
       "</g>\n",
       "<!-- 2&#45;&gt;6 -->\n",
       "<g id=\"edge6\" class=\"edge\">\n",
       "<title>2&#45;&gt;6</title>\n",
       "<path fill=\"none\" stroke=\"black\" d=\"M3081.18,-147.85C3237.33,-135.67 3468.97,-117.59 3628.94,-105.11\"/>\n",
       "<polygon fill=\"black\" stroke=\"black\" points=\"3629.68,-108.56 3639.38,-104.29 3629.13,-101.58 3629.68,-108.56\"/>\n",
       "</g>\n",
       "<!-- 7 -->\n",
       "<g id=\"node8\" class=\"node\">\n",
       "<title>7</title>\n",
       "<ellipse fill=\"none\" stroke=\"black\" cx=\"282.72\" cy=\"-18\" rx=\"282.95\" ry=\"18\"/>\n",
       "<text text-anchor=\"middle\" x=\"282.72\" y=\"-14.3\" font-family=\"Times,serif\" font-size=\"14.00\">185902a3936477865aa648d43a8ec1767848d9fc5dc033747c57072a0f0c42de</text>\n",
       "</g>\n",
       "<!-- 3&#45;&gt;7 -->\n",
       "<g id=\"edge7\" class=\"edge\">\n",
       "<title>3&#45;&gt;7</title>\n",
       "<path fill=\"none\" stroke=\"black\" d=\"M743.08,-73.9C647.69,-62.52 517.08,-46.95 419.35,-35.29\"/>\n",
       "<polygon fill=\"black\" stroke=\"black\" points=\"419.74,-31.81 409.4,-34.11 418.91,-38.77 419.74,-31.81\"/>\n",
       "</g>\n",
       "<!-- 8 -->\n",
       "<g id=\"node9\" class=\"node\">\n",
       "<title>8</title>\n",
       "<ellipse fill=\"none\" stroke=\"black\" cx=\"869.72\" cy=\"-18\" rx=\"285.95\" ry=\"18\"/>\n",
       "<text text-anchor=\"middle\" x=\"869.72\" y=\"-14.3\" font-family=\"Times,serif\" font-size=\"14.00\">bd6024527ab9d50c49744260439e2e48270dfdb229154023757b66d64a92ee8c</text>\n",
       "</g>\n",
       "<!-- 3&#45;&gt;8 -->\n",
       "<g id=\"edge8\" class=\"edge\">\n",
       "<title>3&#45;&gt;8</title>\n",
       "<path fill=\"none\" stroke=\"black\" d=\"M869.72,-71.7C869.72,-63.98 869.72,-54.71 869.72,-46.11\"/>\n",
       "<polygon fill=\"black\" stroke=\"black\" points=\"873.23,-46.1 869.72,-36.1 866.23,-46.1 873.23,-46.1\"/>\n",
       "</g>\n",
       "<!-- 9 -->\n",
       "<g id=\"node10\" class=\"node\">\n",
       "<title>9</title>\n",
       "<ellipse fill=\"none\" stroke=\"black\" cx=\"1454.72\" cy=\"-18\" rx=\"280.55\" ry=\"18\"/>\n",
       "<text text-anchor=\"middle\" x=\"1454.72\" y=\"-14.3\" font-family=\"Times,serif\" font-size=\"14.00\">699081d7fd547cbb33af5a7a0839fb3b7bb954d4a6ad127a44e5db8f478a4e81</text>\n",
       "</g>\n",
       "<!-- 4&#45;&gt;9 -->\n",
       "<g id=\"edge9\" class=\"edge\">\n",
       "<title>4&#45;&gt;9</title>\n",
       "<path fill=\"none\" stroke=\"black\" d=\"M1675.6,-72.5C1632.78,-62.13 1577.41,-48.72 1532.81,-37.91\"/>\n",
       "<polygon fill=\"black\" stroke=\"black\" points=\"1533.43,-34.46 1522.89,-35.51 1531.79,-41.27 1533.43,-34.46\"/>\n",
       "</g>\n",
       "<!-- 10 -->\n",
       "<g id=\"node11\" class=\"node\">\n",
       "<title>10</title>\n",
       "<ellipse fill=\"none\" stroke=\"black\" cx=\"2036.72\" cy=\"-18\" rx=\"282.95\" ry=\"18\"/>\n",
       "<text text-anchor=\"middle\" x=\"2036.72\" y=\"-14.3\" font-family=\"Times,serif\" font-size=\"14.00\">769ec9eeeab5a363db59863a110128a962a1791c5fb105797435fa6256dd6b24</text>\n",
       "</g>\n",
       "<!-- 4&#45;&gt;10 -->\n",
       "<g id=\"edge10\" class=\"edge\">\n",
       "<title>4&#45;&gt;10</title>\n",
       "<path fill=\"none\" stroke=\"black\" d=\"M1812.79,-72.5C1856.29,-62.11 1912.58,-48.66 1957.84,-37.85\"/>\n",
       "<polygon fill=\"black\" stroke=\"black\" points=\"1958.7,-41.24 1967.62,-35.51 1957.08,-34.43 1958.7,-41.24\"/>\n",
       "</g>\n",
       "<!-- 11 -->\n",
       "<g id=\"node12\" class=\"node\">\n",
       "<title>11</title>\n",
       "<ellipse fill=\"none\" stroke=\"black\" cx=\"2617.72\" cy=\"-18\" rx=\"280.25\" ry=\"18\"/>\n",
       "<text text-anchor=\"middle\" x=\"2617.72\" y=\"-14.3\" font-family=\"Times,serif\" font-size=\"14.00\">476eb566e5c07e6aadca92f3eb08810834886dd40ea4f70a499293dfbd8b17ec</text>\n",
       "</g>\n",
       "<!-- 5&#45;&gt;11 -->\n",
       "<g id=\"edge11\" class=\"edge\">\n",
       "<title>5&#45;&gt;11</title>\n",
       "<path fill=\"none\" stroke=\"black\" d=\"M2843.19,-72.5C2799.31,-62.09 2742.51,-48.61 2696.9,-37.79\"/>\n",
       "<polygon fill=\"black\" stroke=\"black\" points=\"2697.59,-34.35 2687.05,-35.45 2695.97,-41.16 2697.59,-34.35\"/>\n",
       "</g>\n",
       "<!-- 12 -->\n",
       "<g id=\"node13\" class=\"node\">\n",
       "<title>12</title>\n",
       "<ellipse fill=\"none\" stroke=\"black\" cx=\"3207.72\" cy=\"-18\" rx=\"291.65\" ry=\"18\"/>\n",
       "<text text-anchor=\"middle\" x=\"3207.72\" y=\"-14.3\" font-family=\"Times,serif\" font-size=\"14.00\">0000000000000000000000000000000000000000000000000000000000000000</text>\n",
       "</g>\n",
       "<!-- 5&#45;&gt;12 -->\n",
       "<g id=\"edge12\" class=\"edge\">\n",
       "<title>5&#45;&gt;12</title>\n",
       "<path fill=\"none\" stroke=\"black\" d=\"M2982.26,-72.5C3026.06,-62.11 3082.73,-48.66 3128.3,-37.85\"/>\n",
       "<polygon fill=\"black\" stroke=\"black\" points=\"3129.22,-41.23 3138.14,-35.51 3127.61,-34.41 3129.22,-41.23\"/>\n",
       "</g>\n",
       "<!-- 13 -->\n",
       "<g id=\"node14\" class=\"node\">\n",
       "<title>13</title>\n",
       "<ellipse fill=\"none\" stroke=\"black\" cx=\"3809.72\" cy=\"-18\" rx=\"291.65\" ry=\"18\"/>\n",
       "<text text-anchor=\"middle\" x=\"3809.72\" y=\"-14.3\" font-family=\"Times,serif\" font-size=\"14.00\">0000000000000000000000000000000000000000000000000000000000000000</text>\n",
       "</g>\n",
       "<!-- 6&#45;&gt;13 -->\n",
       "<g id=\"edge13\" class=\"edge\">\n",
       "<title>6&#45;&gt;13</title>\n",
       "<path fill=\"none\" stroke=\"black\" d=\"M3809.72,-71.7C3809.72,-63.98 3809.72,-54.71 3809.72,-46.11\"/>\n",
       "<polygon fill=\"black\" stroke=\"black\" points=\"3813.23,-46.1 3809.72,-36.1 3806.23,-46.1 3813.23,-46.1\"/>\n",
       "</g>\n",
       "<!-- 14 -->\n",
       "<g id=\"node15\" class=\"node\">\n",
       "<title>14</title>\n",
       "<ellipse fill=\"none\" stroke=\"black\" cx=\"4411.72\" cy=\"-18\" rx=\"291.65\" ry=\"18\"/>\n",
       "<text text-anchor=\"middle\" x=\"4411.72\" y=\"-14.3\" font-family=\"Times,serif\" font-size=\"14.00\">0000000000000000000000000000000000000000000000000000000000000000</text>\n",
       "</g>\n",
       "<!-- 6&#45;&gt;14 -->\n",
       "<g id=\"edge14\" class=\"edge\">\n",
       "<title>6&#45;&gt;14</title>\n",
       "<path fill=\"none\" stroke=\"black\" d=\"M3938.87,-73.98C4036.65,-62.61 4170.82,-47.01 4271.27,-35.33\"/>\n",
       "<polygon fill=\"black\" stroke=\"black\" points=\"4271.97,-38.77 4281.5,-34.14 4271.16,-31.82 4271.97,-38.77\"/>\n",
       "</g>\n",
       "<!-- A -->\n",
       "<g id=\"node16\" class=\"node\">\n",
       "<title>A</title>\n",
       "<ellipse fill=\"none\" stroke=\"black\" cx=\"2493.72\" cy=\"-306\" rx=\"277.55\" ry=\"18\"/>\n",
       "<text text-anchor=\"middle\" x=\"2493.72\" y=\"-302.3\" font-family=\"Times,serif\" font-size=\"14.00\">5af458f613cc3804a057cf34a417b9c7f10ba1b0435e0e327af03756aab072e2</text>\n",
       "</g>\n",
       "<!-- A&#45;&gt;0 -->\n",
       "<g id=\"edge16\" class=\"edge\">\n",
       "<title>A&#45;&gt;0</title>\n",
       "<path fill=\"none\" stroke=\"black\" d=\"M2452.81,-288.05C2429.34,-278.33 2399.69,-266.05 2374.82,-255.75\"/>\n",
       "<polygon fill=\"black\" stroke=\"black\" points=\"2376.13,-252.5 2365.55,-251.91 2373.45,-258.97 2376.13,-252.5\"/>\n",
       "</g>\n",
       "<!-- B -->\n",
       "<g id=\"node17\" class=\"node\">\n",
       "<title>B</title>\n",
       "<ellipse fill=\"none\" stroke=\"black\" cx=\"2663.72\" cy=\"-234\" rx=\"42.79\" ry=\"18\"/>\n",
       "<text text-anchor=\"middle\" x=\"2663.72\" y=\"-230.3\" font-family=\"Times,serif\" font-size=\"14.00\">metadata</text>\n",
       "</g>\n",
       "<!-- A&#45;&gt;B -->\n",
       "<g id=\"edge15\" class=\"edge\">\n",
       "<title>A&#45;&gt;B</title>\n",
       "<path fill=\"none\" stroke=\"black\" d=\"M2534.88,-288.05C2562.18,-276.81 2597.8,-262.14 2624.67,-251.08\"/>\n",
       "<polygon fill=\"black\" stroke=\"black\" points=\"2626.22,-254.23 2634.14,-247.18 2623.56,-247.75 2626.22,-254.23\"/>\n",
       "</g>\n",
       "</g>\n",
       "</svg>\n"
      ],
      "text/plain": [
       "<graphviz.dot.Digraph at 0x7f8004565828>"
      ]
     },
     "execution_count": 12,
     "metadata": {},
     "output_type": "execute_result"
    }
   ],
   "source": [
    "treeviz.show_tree(tree)"
   ]
  },
  {
   "cell_type": "code",
   "execution_count": null,
   "metadata": {},
   "outputs": [],
   "source": []
  }
 ],
 "metadata": {
  "kernelspec": {
   "display_name": "Python 3",
   "language": "python",
   "name": "python3"
  },
  "language_info": {
   "codemirror_mode": {
    "name": "ipython",
    "version": 3
   },
   "file_extension": ".py",
   "mimetype": "text/x-python",
   "name": "python",
   "nbconvert_exporter": "python",
   "pygments_lexer": "ipython3",
   "version": "3.7.0"
  }
 },
 "nbformat": 4,
 "nbformat_minor": 4
}
