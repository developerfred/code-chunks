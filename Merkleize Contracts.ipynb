{
 "cells": [
  {
   "cell_type": "markdown",
   "metadata": {},
   "source": [
    "# Code Merkleization Examples"
   ]
  },
  {
   "cell_type": "code",
   "execution_count": 1,
   "metadata": {},
   "outputs": [],
   "source": [
    "import json\n",
    "import merkleize\n",
    "import treeviz"
   ]
  },
  {
   "cell_type": "code",
   "execution_count": null,
   "metadata": {},
   "outputs": [],
   "source": []
  },
  {
   "cell_type": "code",
   "execution_count": 2,
   "metadata": {},
   "outputs": [],
   "source": [
    "with open(\"bytecodes/tether_test.json\", \"r\") as json_file:\n",
    "    rpc_result = json.load(json_file)"
   ]
  },
  {
   "cell_type": "code",
   "execution_count": null,
   "metadata": {},
   "outputs": [],
   "source": []
  },
  {
   "cell_type": "code",
   "execution_count": 3,
   "metadata": {},
   "outputs": [],
   "source": [
    "bytecode = bytes.fromhex(rpc_result['result'][2:])"
   ]
  },
  {
   "cell_type": "code",
   "execution_count": 4,
   "metadata": {},
   "outputs": [
    {
     "data": {
      "text/plain": [
       "'606060405260043610610196576000357c0100000000000000000000000000000000000000000000000000000000900463ffffffff16806306fdde031461019b5780630753c30c14610229578063095ea7b3146102625780630e136b19146102'"
      ]
     },
     "execution_count": 4,
     "metadata": {},
     "output_type": "execute_result"
    }
   ],
   "source": [
    "bytecode.hex()"
   ]
  },
  {
   "cell_type": "code",
   "execution_count": 5,
   "metadata": {},
   "outputs": [
    {
     "name": "stdout",
     "output_type": "stream",
     "text": [
      "\n",
      "hash:  185902a3936477865aa648d43a8ec1767848d9fc5dc033747c57072a0f0c42de\n",
      "code:  606060405260043610610196576000357c010000000000000000000000000000\n",
      "code_start:  0000000000000000000000000000000000000000000000000000000000000000\n",
      "\n",
      "hash:  bd6024527ab9d50c49744260439e2e48270dfdb229154023757b66d64a92ee8c\n",
      "code:  0000000000000000000000000000900463ffffffff16806306fdde031461019b\n",
      "code_start:  000000000000000000000000000000000000000000000000000000000000002d\n",
      "\n",
      "hash:  699081d7fd547cbb33af5a7a0839fb3b7bb954d4a6ad127a44e5db8f478a4e81\n",
      "code:  5780630753c30c14610229578063095ea7b3146102625780630e136b19146102\n",
      "code_start:  0000000000000000000000000000000000000000000000000000000000000040\n"
     ]
    }
   ],
   "source": [
    "chunks = merkleize.chunkify(bytecode)"
   ]
  },
  {
   "cell_type": "code",
   "execution_count": 6,
   "metadata": {},
   "outputs": [
    {
     "data": {
      "text/plain": [
       "3"
      ]
     },
     "execution_count": 6,
     "metadata": {},
     "output_type": "execute_result"
    }
   ],
   "source": [
    "total_chunks = len(chunks)\n",
    "total_chunks"
   ]
  },
  {
   "cell_type": "code",
   "execution_count": 7,
   "metadata": {},
   "outputs": [
    {
     "data": {
      "text/plain": [
       "4"
      ]
     },
     "execution_count": 7,
     "metadata": {},
     "output_type": "execute_result"
    }
   ],
   "source": [
    "merkleize.next_power_of_2(total_chunks)"
   ]
  },
  {
   "cell_type": "code",
   "execution_count": 8,
   "metadata": {},
   "outputs": [
    {
     "name": "stdout",
     "output_type": "stream",
     "text": [
      "185902a3936477865aa648d43a8ec1767848d9fc5dc033747c57072a0f0c42de\n",
      "bd6024527ab9d50c49744260439e2e48270dfdb229154023757b66d64a92ee8c\n",
      "699081d7fd547cbb33af5a7a0839fb3b7bb954d4a6ad127a44e5db8f478a4e81\n"
     ]
    }
   ],
   "source": [
    "for chunk in chunks:\n",
    "    print(chunk.hex())"
   ]
  },
  {
   "cell_type": "code",
   "execution_count": 9,
   "metadata": {},
   "outputs": [
    {
     "name": "stdout",
     "output_type": "stream",
     "text": [
      "padded_length:  4\n",
      "len(tree):  8\n",
      "\n",
      "left:  699081d7fd547cbb33af5a7a0839fb3b7bb954d4a6ad127a44e5db8f478a4e81\n",
      "right:  0000000000000000000000000000000000000000000000000000000000000000\n",
      "hash:  af93fc318eb266447346fee7047e3f255e2c7ae74bb4aa448b8192771edb8227\n",
      "\n",
      "left:  185902a3936477865aa648d43a8ec1767848d9fc5dc033747c57072a0f0c42de\n",
      "right:  bd6024527ab9d50c49744260439e2e48270dfdb229154023757b66d64a92ee8c\n",
      "hash:  d244c50269e2312994ea833476b434f7ca053b355205af05f5a947fafb317d87\n",
      "\n",
      "left:  d244c50269e2312994ea833476b434f7ca053b355205af05f5a947fafb317d87\n",
      "right:  af93fc318eb266447346fee7047e3f255e2c7ae74bb4aa448b8192771edb8227\n",
      "hash:  7f35d2193ee9b61460ec807137e58fb468b7a3b1d037318551cf93c18b191ca2\n"
     ]
    },
    {
     "data": {
      "text/plain": [
       "8"
      ]
     },
     "execution_count": 9,
     "metadata": {},
     "output_type": "execute_result"
    }
   ],
   "source": [
    "tree = merkleize.treefy(chunks,len(bytecode))\n",
    "total_elements = len(tree)\n",
    "total_elements"
   ]
  },
  {
   "cell_type": "code",
   "execution_count": 10,
   "metadata": {},
   "outputs": [
    {
     "name": "stdout",
     "output_type": "stream",
     "text": [
      "5ead35d83f7514750741ff288239689bb8454e4d6b5b2c18d31345cec67e03ef\n",
      "7f35d2193ee9b61460ec807137e58fb468b7a3b1d037318551cf93c18b191ca2\n",
      "d244c50269e2312994ea833476b434f7ca053b355205af05f5a947fafb317d87\n",
      "af93fc318eb266447346fee7047e3f255e2c7ae74bb4aa448b8192771edb8227\n",
      "185902a3936477865aa648d43a8ec1767848d9fc5dc033747c57072a0f0c42de\n",
      "bd6024527ab9d50c49744260439e2e48270dfdb229154023757b66d64a92ee8c\n",
      "699081d7fd547cbb33af5a7a0839fb3b7bb954d4a6ad127a44e5db8f478a4e81\n",
      "0000000000000000000000000000000000000000000000000000000000000000\n"
     ]
    }
   ],
   "source": [
    "for element in tree:\n",
    "    print(element.hex())"
   ]
  },
  {
   "cell_type": "code",
   "execution_count": 11,
   "metadata": {},
   "outputs": [
    {
     "data": {
      "text/plain": [
       "'5ead35d83f7514750741ff288239689bb8454e4d6b5b2c18d31345cec67e03ef'"
      ]
     },
     "execution_count": 11,
     "metadata": {},
     "output_type": "execute_result"
    }
   ],
   "source": [
    "tree[0].hex()"
   ]
  },
  {
   "cell_type": "code",
   "execution_count": 12,
   "metadata": {},
   "outputs": [
    {
     "name": "stdout",
     "output_type": "stream",
     "text": [
      "generating tree:\n",
      "parent ( 0 7f35d2193ee9b61460ec807137e58fb468b7a3b1d037318551cf93c18b191ca2 )\n",
      "left   ( 1 d244c50269e2312994ea833476b434f7ca053b355205af05f5a947fafb317d87 )\n",
      "right  ( 2 af93fc318eb266447346fee7047e3f255e2c7ae74bb4aa448b8192771edb8227 )\n",
      "new parent: left ( 1 d244c50269e2312994ea833476b434f7ca053b355205af05f5a947fafb317d87\n",
      "left   ( 3 185902a3936477865aa648d43a8ec1767848d9fc5dc033747c57072a0f0c42de )\n",
      "right  ( 4 bd6024527ab9d50c49744260439e2e48270dfdb229154023757b66d64a92ee8c )\n",
      "new parent: right ( 2 af93fc318eb266447346fee7047e3f255e2c7ae74bb4aa448b8192771edb8227\n",
      "left   ( 5 699081d7fd547cbb33af5a7a0839fb3b7bb954d4a6ad127a44e5db8f478a4e81 )\n",
      "right  ( 6 0000000000000000000000000000000000000000000000000000000000000000 )\n",
      "new parent: right ( 3 185902a3936477865aa648d43a8ec1767848d9fc5dc033747c57072a0f0c42de\n"
     ]
    },
    {
     "data": {
      "image/svg+xml": [
       "<?xml version=\"1.0\" encoding=\"UTF-8\" standalone=\"no\"?>\n",
       "<!DOCTYPE svg PUBLIC \"-//W3C//DTD SVG 1.1//EN\"\n",
       " \"http://www.w3.org/Graphics/SVG/1.1/DTD/svg11.dtd\">\n",
       "<!-- Generated by graphviz version 2.44.1 (0)\n",
       " -->\n",
       "<!-- Pages: 1 -->\n",
       "<svg width=\"2346pt\" height=\"260pt\"\n",
       " viewBox=\"0.00 0.00 2345.55 260.00\" xmlns=\"http://www.w3.org/2000/svg\" xmlns:xlink=\"http://www.w3.org/1999/xlink\">\n",
       "<g id=\"graph0\" class=\"graph\" transform=\"scale(1 1) rotate(0) translate(4 256)\">\n",
       "<polygon fill=\"white\" stroke=\"transparent\" points=\"-4,4 -4,-256 2341.55,-256 2341.55,4 -4,4\"/>\n",
       "<!-- 0 -->\n",
       "<g id=\"node1\" class=\"node\">\n",
       "<title>0</title>\n",
       "<ellipse fill=\"none\" stroke=\"black\" cx=\"1161.72\" cy=\"-162\" rx=\"282.15\" ry=\"18\"/>\n",
       "<text text-anchor=\"middle\" x=\"1161.72\" y=\"-158.3\" font-family=\"Times,serif\" font-size=\"14.00\">7f35d2193ee9b61460ec807137e58fb468b7a3b1d037318551cf93c18b191ca2</text>\n",
       "</g>\n",
       "<!-- 1 -->\n",
       "<g id=\"node2\" class=\"node\">\n",
       "<title>1</title>\n",
       "<ellipse fill=\"none\" stroke=\"black\" cx=\"869.72\" cy=\"-90\" rx=\"280.25\" ry=\"18\"/>\n",
       "<text text-anchor=\"middle\" x=\"869.72\" y=\"-86.3\" font-family=\"Times,serif\" font-size=\"14.00\">d244c50269e2312994ea833476b434f7ca053b355205af05f5a947fafb317d87</text>\n",
       "</g>\n",
       "<!-- 0&#45;&gt;1 -->\n",
       "<g id=\"edge1\" class=\"edge\">\n",
       "<title>0&#45;&gt;1</title>\n",
       "<path fill=\"none\" stroke=\"black\" d=\"M1092.89,-144.5C1049.54,-134.11 993.44,-120.66 948.34,-109.85\"/>\n",
       "<polygon fill=\"black\" stroke=\"black\" points=\"949.14,-106.44 938.6,-107.51 947.51,-113.25 949.14,-106.44\"/>\n",
       "</g>\n",
       "<!-- 2 -->\n",
       "<g id=\"node3\" class=\"node\">\n",
       "<title>2</title>\n",
       "<ellipse fill=\"none\" stroke=\"black\" cx=\"1454.72\" cy=\"-90\" rx=\"279.45\" ry=\"18\"/>\n",
       "<text text-anchor=\"middle\" x=\"1454.72\" y=\"-86.3\" font-family=\"Times,serif\" font-size=\"14.00\">af93fc318eb266447346fee7047e3f255e2c7ae74bb4aa448b8192771edb8227</text>\n",
       "</g>\n",
       "<!-- 0&#45;&gt;2 -->\n",
       "<g id=\"edge2\" class=\"edge\">\n",
       "<title>0&#45;&gt;2</title>\n",
       "<path fill=\"none\" stroke=\"black\" d=\"M1230.79,-144.5C1274.37,-134.09 1330.79,-120.61 1376.09,-109.79\"/>\n",
       "<polygon fill=\"black\" stroke=\"black\" points=\"1376.96,-113.18 1385.87,-107.45 1375.33,-106.37 1376.96,-113.18\"/>\n",
       "</g>\n",
       "<!-- 3 -->\n",
       "<g id=\"node4\" class=\"node\">\n",
       "<title>3</title>\n",
       "<ellipse fill=\"none\" stroke=\"black\" cx=\"282.72\" cy=\"-18\" rx=\"282.95\" ry=\"18\"/>\n",
       "<text text-anchor=\"middle\" x=\"282.72\" y=\"-14.3\" font-family=\"Times,serif\" font-size=\"14.00\">185902a3936477865aa648d43a8ec1767848d9fc5dc033747c57072a0f0c42de</text>\n",
       "</g>\n",
       "<!-- 1&#45;&gt;3 -->\n",
       "<g id=\"edge3\" class=\"edge\">\n",
       "<title>1&#45;&gt;3</title>\n",
       "<path fill=\"none\" stroke=\"black\" d=\"M743.08,-73.9C647.69,-62.52 517.08,-46.95 419.35,-35.29\"/>\n",
       "<polygon fill=\"black\" stroke=\"black\" points=\"419.74,-31.81 409.4,-34.11 418.91,-38.77 419.74,-31.81\"/>\n",
       "</g>\n",
       "<!-- 4 -->\n",
       "<g id=\"node5\" class=\"node\">\n",
       "<title>4</title>\n",
       "<ellipse fill=\"none\" stroke=\"black\" cx=\"869.72\" cy=\"-18\" rx=\"285.95\" ry=\"18\"/>\n",
       "<text text-anchor=\"middle\" x=\"869.72\" y=\"-14.3\" font-family=\"Times,serif\" font-size=\"14.00\">bd6024527ab9d50c49744260439e2e48270dfdb229154023757b66d64a92ee8c</text>\n",
       "</g>\n",
       "<!-- 1&#45;&gt;4 -->\n",
       "<g id=\"edge4\" class=\"edge\">\n",
       "<title>1&#45;&gt;4</title>\n",
       "<path fill=\"none\" stroke=\"black\" d=\"M869.72,-71.7C869.72,-63.98 869.72,-54.71 869.72,-46.11\"/>\n",
       "<polygon fill=\"black\" stroke=\"black\" points=\"873.23,-46.1 869.72,-36.1 866.23,-46.1 873.23,-46.1\"/>\n",
       "</g>\n",
       "<!-- 5 -->\n",
       "<g id=\"node6\" class=\"node\">\n",
       "<title>5</title>\n",
       "<ellipse fill=\"none\" stroke=\"black\" cx=\"1454.72\" cy=\"-18\" rx=\"280.55\" ry=\"18\"/>\n",
       "<text text-anchor=\"middle\" x=\"1454.72\" y=\"-14.3\" font-family=\"Times,serif\" font-size=\"14.00\">699081d7fd547cbb33af5a7a0839fb3b7bb954d4a6ad127a44e5db8f478a4e81</text>\n",
       "</g>\n",
       "<!-- 2&#45;&gt;5 -->\n",
       "<g id=\"edge5\" class=\"edge\">\n",
       "<title>2&#45;&gt;5</title>\n",
       "<path fill=\"none\" stroke=\"black\" d=\"M1454.72,-71.7C1454.72,-63.98 1454.72,-54.71 1454.72,-46.11\"/>\n",
       "<polygon fill=\"black\" stroke=\"black\" points=\"1458.23,-46.1 1454.72,-36.1 1451.23,-46.1 1458.23,-46.1\"/>\n",
       "</g>\n",
       "<!-- 6 -->\n",
       "<g id=\"node7\" class=\"node\">\n",
       "<title>6</title>\n",
       "<ellipse fill=\"none\" stroke=\"black\" cx=\"2045.72\" cy=\"-18\" rx=\"291.65\" ry=\"18\"/>\n",
       "<text text-anchor=\"middle\" x=\"2045.72\" y=\"-14.3\" font-family=\"Times,serif\" font-size=\"14.00\">0000000000000000000000000000000000000000000000000000000000000000</text>\n",
       "</g>\n",
       "<!-- 2&#45;&gt;6 -->\n",
       "<g id=\"edge6\" class=\"edge\">\n",
       "<title>2&#45;&gt;6</title>\n",
       "<path fill=\"none\" stroke=\"black\" d=\"M1581.87,-73.94C1677.73,-62.59 1809.05,-47.03 1907.5,-35.37\"/>\n",
       "<polygon fill=\"black\" stroke=\"black\" points=\"1908,-38.84 1917.52,-34.18 1907.18,-31.89 1908,-38.84\"/>\n",
       "</g>\n",
       "<!-- A -->\n",
       "<g id=\"node8\" class=\"node\">\n",
       "<title>A</title>\n",
       "<ellipse fill=\"none\" stroke=\"black\" cx=\"1332.72\" cy=\"-234\" rx=\"281.35\" ry=\"18\"/>\n",
       "<text text-anchor=\"middle\" x=\"1332.72\" y=\"-230.3\" font-family=\"Times,serif\" font-size=\"14.00\">5ead35d83f7514750741ff288239689bb8454e4d6b5b2c18d31345cec67e03ef</text>\n",
       "</g>\n",
       "<!-- A&#45;&gt;0 -->\n",
       "<g id=\"edge8\" class=\"edge\">\n",
       "<title>A&#45;&gt;0</title>\n",
       "<path fill=\"none\" stroke=\"black\" d=\"M1291.33,-216.05C1267.58,-206.33 1237.57,-194.05 1212.42,-183.75\"/>\n",
       "<polygon fill=\"black\" stroke=\"black\" points=\"1213.61,-180.46 1203.03,-179.91 1210.96,-186.94 1213.61,-180.46\"/>\n",
       "</g>\n",
       "<!-- B -->\n",
       "<g id=\"node9\" class=\"node\">\n",
       "<title>B</title>\n",
       "<ellipse fill=\"none\" stroke=\"black\" cx=\"1504.72\" cy=\"-162\" rx=\"42.79\" ry=\"18\"/>\n",
       "<text text-anchor=\"middle\" x=\"1504.72\" y=\"-158.3\" font-family=\"Times,serif\" font-size=\"14.00\">metadata</text>\n",
       "</g>\n",
       "<!-- A&#45;&gt;B -->\n",
       "<g id=\"edge7\" class=\"edge\">\n",
       "<title>A&#45;&gt;B</title>\n",
       "<path fill=\"none\" stroke=\"black\" d=\"M1374.36,-216.05C1402.08,-204.78 1438.26,-190.05 1465.47,-178.98\"/>\n",
       "<polygon fill=\"black\" stroke=\"black\" points=\"1467.11,-182.09 1475.06,-175.07 1464.47,-175.6 1467.11,-182.09\"/>\n",
       "</g>\n",
       "</g>\n",
       "</svg>\n"
      ],
      "text/plain": [
       "<graphviz.dot.Digraph at 0x7fcc205ef8d0>"
      ]
     },
     "execution_count": 12,
     "metadata": {},
     "output_type": "execute_result"
    }
   ],
   "source": [
    "treeviz.show_tree(tree)"
   ]
  },
  {
   "cell_type": "code",
   "execution_count": null,
   "metadata": {},
   "outputs": [],
   "source": []
  }
 ],
 "metadata": {
  "kernelspec": {
   "display_name": "Python 3",
   "language": "python",
   "name": "python3"
  },
  "language_info": {
   "codemirror_mode": {
    "name": "ipython",
    "version": 3
   },
   "file_extension": ".py",
   "mimetype": "text/x-python",
   "name": "python",
   "nbconvert_exporter": "python",
   "pygments_lexer": "ipython3",
   "version": "3.7.0"
  }
 },
 "nbformat": 4,
 "nbformat_minor": 4
}
